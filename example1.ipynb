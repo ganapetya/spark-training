{
 "cells": [
  {
   "cell_type": "code",
   "execution_count": null,
   "id": "30faf0ec-b9d1-4624-bc88-63a9d2c431c8",
   "metadata": {},
   "outputs": [],
   "source": [
    "from pyspark.sql import SparkSession"
   ]
  },
  {
   "cell_type": "code",
   "execution_count": null,
   "id": "00e5132e-fd76-4701-b5c2-afec2cecca28",
   "metadata": {},
   "outputs": [],
   "source": [
    "spark = SparkSession.builder.master(\"spark://3216aa2bcbb9:7077\").appName(\"MyApp\").getOrCreate()"
   ]
  },
  {
   "cell_type": "code",
   "execution_count": null,
   "id": "b9b93bfd-ed80-471e-a233-45ecd6449d16",
   "metadata": {},
   "outputs": [],
   "source": [
    "spark.range(100).show(5)"
   ]
  }
 ],
 "metadata": {
  "kernelspec": {
   "display_name": "Python 3 (ipykernel)",
   "language": "python",
   "name": "python3"
  },
  "language_info": {
   "codemirror_mode": {
    "name": "ipython",
    "version": 3
   },
   "file_extension": ".py",
   "mimetype": "text/x-python",
   "name": "python",
   "nbconvert_exporter": "python",
   "pygments_lexer": "ipython3",
   "version": "3.11.10"
  }
 },
 "nbformat": 4,
 "nbformat_minor": 5
}
