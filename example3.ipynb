{
 "cells": [
  {
   "cell_type": "code",
   "execution_count": 4,
   "id": "d69111d8-c24c-4a14-97f7-35867379065e",
   "metadata": {},
   "outputs": [
    {
     "name": "stdout",
     "output_type": "stream",
     "text": [
      "+-----+-----+-----+\n",
      "|State|Color|Count|\n",
      "+-----+-----+-----+\n",
      "|HHT  |Red  |1    |\n",
      "|HTT  |Green|6    |\n",
      "|GT   |Blue |6    |\n",
      "+-----+-----+-----+\n",
      "\n",
      "+-----+-----+----------+\n",
      "|State|Color|sum(Count)|\n",
      "+-----+-----+----------+\n",
      "|HTT  |Green|6         |\n",
      "|GT   |Blue |6         |\n",
      "|HHT  |Red  |1         |\n",
      "+-----+-----+----------+\n",
      "\n",
      "Total Rows = 3\n",
      "+-----+-----+----------+\n",
      "|State|Color|sum(Count)|\n",
      "+-----+-----+----------+\n",
      "+-----+-----+----------+\n",
      "\n"
     ]
    }
   ],
   "source": [
    "from __future__ import print_function\n",
    "\n",
    "import sys\n",
    "\n",
    "from pyspark.sql import SparkSession\n",
    "\n",
    "\n",
    "\n",
    "spark = (SparkSession\n",
    "    .builder\n",
    "    .appName(\"PythonMnMCount\")\n",
    "    .getOrCreate())\n",
    "# get the M&M data set file name\n",
    "mnm_file = \"/opt/spark-data/data1.csv\"\n",
    "# read the file into a Spark DataFrame\n",
    "mnm_df = (spark.read.format(\"csv\")\n",
    "    .option(\"header\", \"true\")\n",
    "    .option(\"inferSchema\", \"true\")\n",
    "    .load(mnm_file))\n",
    "mnm_df.show(n=5, truncate=False)\n",
    "\n",
    "# aggregate count of all colors and groupBy state and color\n",
    "# orderBy descending order\n",
    "count_mnm_df = (mnm_df.select(\"State\", \"Color\", \"Count\")\n",
    "                .groupBy(\"State\", \"Color\")\n",
    "                .sum(\"Count\")\n",
    "                .orderBy(\"sum(Count)\", ascending=False))\n",
    "\n",
    "# show all the resulting aggregation for all the dates and colors\n",
    "count_mnm_df.show(n=60, truncate=False)\n",
    "print(\"Total Rows = %d\" % (count_mnm_df.count()))\n",
    "\n",
    "# find the aggregate count for California by filtering\n",
    "ca_count_mnm_df = (mnm_df.select(\"*\")\n",
    "                   .where(mnm_df.State == 'CA')\n",
    "                   .groupBy(\"State\", \"Color\")\n",
    "                   .sum(\"Count\")\n",
    "                   .orderBy(\"sum(Count)\", ascending=False))\n",
    "\n",
    "# show the resulting aggregation for California\n",
    "ca_count_mnm_df.show(n=10, truncate=False)"
   ]
  },
  {
   "cell_type": "code",
   "execution_count": 5,
   "id": "2c0050be-be7a-480a-abba-6faf0dbb97a7",
   "metadata": {},
   "outputs": [],
   "source": [
    "spark.stop();"
   ]
  },
  {
   "cell_type": "code",
   "execution_count": null,
   "id": "604ce722-9035-4233-95ce-3df6b8d532f1",
   "metadata": {},
   "outputs": [],
   "source": []
  }
 ],
 "metadata": {
  "kernelspec": {
   "display_name": "Python 3 (ipykernel)",
   "language": "python",
   "name": "python3"
  },
  "language_info": {
   "codemirror_mode": {
    "name": "ipython",
    "version": 3
   },
   "file_extension": ".py",
   "mimetype": "text/x-python",
   "name": "python",
   "nbconvert_exporter": "python",
   "pygments_lexer": "ipython3",
   "version": "3.12.7"
  }
 },
 "nbformat": 4,
 "nbformat_minor": 5
}
