{
 "cells": [
  {
   "cell_type": "code",
   "execution_count": 1,
   "id": "9e3d7965-cbc4-499d-81c9-cb6ab280bc5a",
   "metadata": {},
   "outputs": [],
   "source": [
    "# chap 4.1\n",
    "from pyspark.sql.types import *\n",
    "from pyspark.sql.functions import *\n",
    "from pyspark.sql import SparkSession\n",
    "spark = SparkSession.builder.master(\"spark://3efcebd71aef:7077\").config('spark.sql.warehouse.dir', '/tmp/warehouse').appName(\"MyAppFiles2\").getOrCreate()\n",
    "\n"
   ]
  },
  {
   "cell_type": "code",
   "execution_count": 2,
   "id": "9b6e0914-9dd1-4a1c-b771-14d71b2f9781",
   "metadata": {},
   "outputs": [
    {
     "data": {
      "text/plain": [
       "'02/19  09:25'"
      ]
     },
     "execution_count": 2,
     "metadata": {},
     "output_type": "execute_result"
    }
   ],
   "source": [
    "def to_date_format_udf(d_str):\n",
    "  l = [char for char in d_str]\n",
    "  return \"\".join(l[0:2]) + \"/\" +  \"\".join(l[2:4]) + \" \" + \" \" +\"\".join(l[4:6]) + \":\" + \"\".join(l[6:])\n",
    "\n",
    "to_date_format_udf(\"02190925\")"
   ]
  },
  {
   "cell_type": "code",
   "execution_count": 3,
   "id": "4ad2dbb3-33e4-4b79-b0a9-28ec7b3d8012",
   "metadata": {},
   "outputs": [
    {
     "data": {
      "text/plain": [
       "<function __main__.to_date_format_udf(d_str)>"
      ]
     },
     "execution_count": 3,
     "metadata": {},
     "output_type": "execute_result"
    }
   ],
   "source": [
    "spark.udf.register(\"to_date_format_udf\", to_date_format_udf, StringType())"
   ]
  },
  {
   "cell_type": "code",
   "execution_count": 4,
   "id": "06341b91-634a-48cf-b445-72b7161966b6",
   "metadata": {},
   "outputs": [
    {
     "data": {
      "text/plain": [
       "DataFrame[date: string, delay: int, distance: int, origin: string, destination: string]"
      ]
     },
     "metadata": {},
     "output_type": "display_data"
    }
   ],
   "source": [
    "df = (spark.read.format(\"csv\")\n",
    "      .schema(\"date STRING, delay INT, distance INT, origin STRING, destination STRING\")\n",
    "      .option(\"header\", \"true\")\n",
    "      .option(\"path\", \"/opt/spark-data/departuredelays.csv\")\n",
    "      .load())\n",
    "\n",
    "display(df)"
   ]
  },
  {
   "cell_type": "code",
   "execution_count": 5,
   "id": "ba910d3f-6a86-49f7-a7d2-b8bf5de18696",
   "metadata": {},
   "outputs": [
    {
     "name": "stdout",
     "output_type": "stream",
     "text": [
      "+------------+\n",
      "|data_format |\n",
      "+------------+\n",
      "|01/01  12:45|\n",
      "|01/02  06:00|\n",
      "|01/02  12:45|\n",
      "|01/02  06:05|\n",
      "|01/03  12:45|\n",
      "|01/03  06:05|\n",
      "|01/04  12:43|\n",
      "|01/04  06:05|\n",
      "|01/05  12:45|\n",
      "|01/05  06:05|\n",
      "+------------+\n",
      "only showing top 10 rows\n",
      "\n"
     ]
    }
   ],
   "source": [
    "df.selectExpr(\"to_date_format_udf(date) as data_format\").show(10, truncate=False)"
   ]
  },
  {
   "cell_type": "code",
   "execution_count": 6,
   "id": "c0f6827b-acdf-4196-84e9-40d48ddba730",
   "metadata": {},
   "outputs": [],
   "source": [
    "df.createOrReplaceTempView(\"us_delay_flights_tbl\")"
   ]
  },
  {
   "cell_type": "code",
   "execution_count": 12,
   "id": "b5560df4-1ccd-4801-a284-7bb97bd8540b",
   "metadata": {},
   "outputs": [
    {
     "data": {
      "text/plain": [
       "DataFrame[]"
      ]
     },
     "execution_count": 12,
     "metadata": {},
     "output_type": "execute_result"
    }
   ],
   "source": [
    "spark.sql('CACHE TABLE us_delay_flights_tbl')"
   ]
  },
  {
   "cell_type": "code",
   "execution_count": 13,
   "id": "dbcd004b-f029-4733-a2ab-b0515fbb3fe1",
   "metadata": {},
   "outputs": [
    {
     "name": "stdout",
     "output_type": "stream",
     "text": [
      "+--------+-----+--------+------+-----------+--------+------------+\n",
      "|date    |delay|distance|origin|destination|date    |date_fm     |\n",
      "+--------+-----+--------+------+-----------+--------+------------+\n",
      "|01011245|6    |602     |ABE   |ATL        |01011245|01/01  12:45|\n",
      "|01020600|-8   |369     |ABE   |DTW        |01020600|01/02  06:00|\n",
      "|01021245|-2   |602     |ABE   |ATL        |01021245|01/02  12:45|\n",
      "|01020605|-4   |602     |ABE   |ATL        |01020605|01/02  06:05|\n",
      "|01031245|-4   |602     |ABE   |ATL        |01031245|01/03  12:45|\n",
      "|01030605|0    |602     |ABE   |ATL        |01030605|01/03  06:05|\n",
      "|01041243|10   |602     |ABE   |ATL        |01041243|01/04  12:43|\n",
      "|01040605|28   |602     |ABE   |ATL        |01040605|01/04  06:05|\n",
      "|01051245|88   |602     |ABE   |ATL        |01051245|01/05  12:45|\n",
      "|01050605|9    |602     |ABE   |ATL        |01050605|01/05  06:05|\n",
      "+--------+-----+--------+------+-----------+--------+------------+\n",
      "only showing top 10 rows\n",
      "\n"
     ]
    }
   ],
   "source": [
    "spark.sql(\"SELECT *, date, to_date_format_udf(date) AS date_fm FROM us_delay_flights_tbl\").show(10, truncate=False)"
   ]
  },
  {
   "cell_type": "code",
   "execution_count": 15,
   "id": "017478fe-862e-478e-b653-7c899ec22f5a",
   "metadata": {},
   "outputs": [
    {
     "name": "stdout",
     "output_type": "stream",
     "text": [
      "+--------+\n",
      "|count(1)|\n",
      "+--------+\n",
      "| 1391578|\n",
      "+--------+\n",
      "\n"
     ]
    }
   ],
   "source": [
    "spark.sql(\"SELECT COUNT(*) FROM us_delay_flights_tbl\").show() "
   ]
  },
  {
   "cell_type": "code",
   "execution_count": 16,
   "id": "85459089-5d93-4855-8237-8ad2607ae3c3",
   "metadata": {},
   "outputs": [
    {
     "name": "stdout",
     "output_type": "stream",
     "text": [
      "+--------+------+-----------+\n",
      "|distance|origin|destination|\n",
      "+--------+------+-----------+\n",
      "|4330    |HNL   |JFK        |\n",
      "|4330    |HNL   |JFK        |\n",
      "|4330    |HNL   |JFK        |\n",
      "|4330    |HNL   |JFK        |\n",
      "|4330    |HNL   |JFK        |\n",
      "|4330    |HNL   |JFK        |\n",
      "|4330    |HNL   |JFK        |\n",
      "|4330    |HNL   |JFK        |\n",
      "|4330    |HNL   |JFK        |\n",
      "|4330    |HNL   |JFK        |\n",
      "+--------+------+-----------+\n",
      "only showing top 10 rows\n",
      "\n"
     ]
    }
   ],
   "source": [
    "spark.sql(\"SELECT distance, origin, destination FROM us_delay_flights_tbl WHERE distance > 1000 ORDER BY distance DESC\").show(10, truncate=False)"
   ]
  },
  {
   "cell_type": "code",
   "execution_count": 17,
   "id": "4e316b6c-8af5-4898-8d64-ebc0654af52f",
   "metadata": {},
   "outputs": [
    {
     "name": "stdout",
     "output_type": "stream",
     "text": [
      "+--------+------+-----------+\n",
      "|distance|origin|destination|\n",
      "+--------+------+-----------+\n",
      "|4330    |HNL   |JFK        |\n",
      "|4330    |HNL   |JFK        |\n",
      "|4330    |HNL   |JFK        |\n",
      "|4330    |HNL   |JFK        |\n",
      "|4330    |HNL   |JFK        |\n",
      "|4330    |HNL   |JFK        |\n",
      "|4330    |HNL   |JFK        |\n",
      "|4330    |HNL   |JFK        |\n",
      "|4330    |HNL   |JFK        |\n",
      "|4330    |HNL   |JFK        |\n",
      "+--------+------+-----------+\n",
      "only showing top 10 rows\n",
      "\n"
     ]
    }
   ],
   "source": [
    "df.select(\"distance\", \"origin\", \"destination\").where(col(\"distance\") > 1000).orderBy(desc(\"distance\")).show(10, truncate=False)"
   ]
  },
  {
   "cell_type": "code",
   "execution_count": 18,
   "id": "f6901c3e-fff2-4c61-8d44-5e8777d39d66",
   "metadata": {},
   "outputs": [
    {
     "name": "stdout",
     "output_type": "stream",
     "text": [
      "+--------+------+-----------+\n",
      "|distance|origin|destination|\n",
      "+--------+------+-----------+\n",
      "|    4330|   HNL|        JFK|\n",
      "|    4330|   HNL|        JFK|\n",
      "|    4330|   HNL|        JFK|\n",
      "|    4330|   HNL|        JFK|\n",
      "|    4330|   HNL|        JFK|\n",
      "|    4330|   HNL|        JFK|\n",
      "|    4330|   HNL|        JFK|\n",
      "|    4330|   HNL|        JFK|\n",
      "|    4330|   HNL|        JFK|\n",
      "|    4330|   HNL|        JFK|\n",
      "+--------+------+-----------+\n",
      "only showing top 10 rows\n",
      "\n"
     ]
    }
   ],
   "source": [
    "df.select(\"distance\", \"origin\", \"destination\").where(\"distance > 1000\").orderBy(\"distance\", ascending=False).show(10)"
   ]
  },
  {
   "cell_type": "code",
   "execution_count": 19,
   "id": "93d17c5f-6b6a-4d8d-953a-601abfaf115c",
   "metadata": {},
   "outputs": [
    {
     "name": "stdout",
     "output_type": "stream",
     "text": [
      "+--------+------+-----------+\n",
      "|distance|origin|destination|\n",
      "+--------+------+-----------+\n",
      "|    4330|   HNL|        JFK|\n",
      "|    4330|   HNL|        JFK|\n",
      "|    4330|   HNL|        JFK|\n",
      "|    4330|   HNL|        JFK|\n",
      "|    4330|   HNL|        JFK|\n",
      "|    4330|   HNL|        JFK|\n",
      "|    4330|   HNL|        JFK|\n",
      "|    4330|   HNL|        JFK|\n",
      "|    4330|   HNL|        JFK|\n",
      "|    4330|   HNL|        JFK|\n",
      "+--------+------+-----------+\n",
      "only showing top 10 rows\n",
      "\n"
     ]
    }
   ],
   "source": [
    "df.select(\"distance\", \"origin\", \"destination\").where(\"distance > 1000\").orderBy(desc(\"distance\")).show(10)"
   ]
  },
  {
   "cell_type": "code",
   "execution_count": 20,
   "id": "52275367-f609-4f23-a518-a9f82d4091f7",
   "metadata": {},
   "outputs": [
    {
     "name": "stdout",
     "output_type": "stream",
     "text": [
      "+--------+-----+------+-----------+\n",
      "|date    |delay|origin|destination|\n",
      "+--------+-----+------+-----------+\n",
      "|02190925|1638 |SFO   |ORD        |\n",
      "|01031755|396  |SFO   |ORD        |\n",
      "|01022330|326  |SFO   |ORD        |\n",
      "|01051205|320  |SFO   |ORD        |\n",
      "|01190925|297  |SFO   |ORD        |\n",
      "|02171115|296  |SFO   |ORD        |\n",
      "|01071040|279  |SFO   |ORD        |\n",
      "|01051550|274  |SFO   |ORD        |\n",
      "|03120730|266  |SFO   |ORD        |\n",
      "|01261104|258  |SFO   |ORD        |\n",
      "+--------+-----+------+-----------+\n",
      "only showing top 10 rows\n",
      "\n"
     ]
    }
   ],
   "source": [
    "spark.sql(\"\"\"\n",
    "SELECT date, delay, origin, destination \n",
    "FROM us_delay_flights_tbl \n",
    "WHERE delay > 120 AND ORIGIN = 'SFO' AND DESTINATION = 'ORD' \n",
    "ORDER by delay DESC\n",
    "\"\"\").show(10, truncate=False)"
   ]
  },
  {
   "cell_type": "code",
   "execution_count": 21,
   "id": "d7fe70b1-9fc0-41ff-b584-12eb7b96f987",
   "metadata": {},
   "outputs": [
    {
     "name": "stdout",
     "output_type": "stream",
     "text": [
      "+-----+------+-----------+-------------+\n",
      "|delay|origin|destination|Flight_Delays|\n",
      "+-----+------+-----------+-------------+\n",
      "|333  |ABE   |ATL        |Long Delays  |\n",
      "|305  |ABE   |ATL        |Long Delays  |\n",
      "|275  |ABE   |ATL        |Long Delays  |\n",
      "|257  |ABE   |ATL        |Long Delays  |\n",
      "|247  |ABE   |DTW        |Long Delays  |\n",
      "|247  |ABE   |ATL        |Long Delays  |\n",
      "|219  |ABE   |ORD        |Long Delays  |\n",
      "|211  |ABE   |ATL        |Long Delays  |\n",
      "|197  |ABE   |DTW        |Long Delays  |\n",
      "|192  |ABE   |ORD        |Long Delays  |\n",
      "+-----+------+-----------+-------------+\n",
      "only showing top 10 rows\n",
      "\n"
     ]
    }
   ],
   "source": [
    "spark.sql(\"\"\"SELECT delay, origin, destination,\n",
    "              CASE\n",
    "                  WHEN delay > 360 THEN 'Very Long Delays'\n",
    "                  WHEN delay > 120 AND delay < 360 THEN  'Long Delays '\n",
    "                  WHEN delay > 60 AND delay < 120 THEN  'Short Delays'\n",
    "                  WHEN delay > 0 and delay < 60  THEN   'Tolerable Delays'\n",
    "                  WHEN delay = 0 THEN 'No Delays'\n",
    "                  ELSE 'No Delays'\n",
    "               END AS Flight_Delays\n",
    "               FROM us_delay_flights_tbl\n",
    "               ORDER BY origin, delay DESC\"\"\").show(10, truncate=False)"
   ]
  },
  {
   "cell_type": "code",
   "execution_count": 22,
   "id": "57b6b20b-e5a8-4a95-8b57-c0d949d1785a",
   "metadata": {},
   "outputs": [],
   "source": [
    "df1 =  spark.sql(\"SELECT date, delay, origin, destination FROM us_delay_flights_tbl WHERE origin = 'SFO'\")"
   ]
  },
  {
   "cell_type": "code",
   "execution_count": 23,
   "id": "6c430344-e495-4c79-b6bc-786c3a83f37f",
   "metadata": {},
   "outputs": [],
   "source": [
    "df1.createOrReplaceGlobalTempView(\"us_origin_airport_SFO_tmp_view\")"
   ]
  },
  {
   "cell_type": "code",
   "execution_count": 24,
   "id": "f562df30-d71d-4240-bb6a-493da94e8ae6",
   "metadata": {},
   "outputs": [
    {
     "data": {
      "text/plain": [
       "DataFrame[]"
      ]
     },
     "execution_count": 24,
     "metadata": {},
     "output_type": "execute_result"
    }
   ],
   "source": [
    "spark.sql('DROP VIEW IF EXISTS global_temp.us_origin_airport_JFK_tmp_view')"
   ]
  },
  {
   "cell_type": "code",
   "execution_count": 25,
   "id": "f2091203-404a-40c7-9960-f3d8fb3c2e3d",
   "metadata": {},
   "outputs": [],
   "source": [
    "df2 = spark.sql(\"SELECT date, delay, origin, destination from us_delay_flights_tbl WHERE origin = 'JFK'\")"
   ]
  },
  {
   "cell_type": "code",
   "execution_count": 27,
   "id": "fdabdd22-6c69-4723-8890-7f33b621e19f",
   "metadata": {},
   "outputs": [],
   "source": [
    "df2.createOrReplaceTempView(\"us_origin_airport_JFK_tmp_view\")"
   ]
  },
  {
   "cell_type": "raw",
   "id": "182bba2c-7262-471e-9aeb-a57a17b0c24d",
   "metadata": {},
   "source": [
    "spark.sql(\"us_origin_airport_JFK_tmp_view\").show(10)"
   ]
  },
  {
   "cell_type": "code",
   "execution_count": 29,
   "id": "5ccbb04a-19d3-44af-ae0a-bba8d37071ce",
   "metadata": {},
   "outputs": [
    {
     "data": {
      "text/plain": [
       "DataFrame[]"
      ]
     },
     "execution_count": 29,
     "metadata": {},
     "output_type": "execute_result"
    }
   ],
   "source": [
    "spark.sql(\"DROP VIEW IF EXISTS us_origin_airport_JFK_tmp_view\")"
   ]
  },
  {
   "cell_type": "code",
   "execution_count": 30,
   "id": "81c915a2-8be6-4d15-9ad6-fb181d4d952a",
   "metadata": {},
   "outputs": [
    {
     "data": {
      "text/plain": [
       "[Table(name='us_origin_airport_SFO_tmp_view', catalog=None, namespace=['global_temp'], description=None, tableType='TEMPORARY', isTemporary=True),\n",
       " Table(name='us_delay_flights_tbl', catalog=None, namespace=[], description=None, tableType='TEMPORARY', isTemporary=True)]"
      ]
     },
     "execution_count": 30,
     "metadata": {},
     "output_type": "execute_result"
    }
   ],
   "source": [
    "spark.catalog.listTables(dbName=\"global_temp\")"
   ]
  },
  {
   "cell_type": "code",
   "execution_count": null,
   "id": "8eba5001-48af-4508-a727-5edb08bf83d1",
   "metadata": {},
   "outputs": [],
   "source": []
  }
 ],
 "metadata": {
  "kernelspec": {
   "display_name": "Python 3 (ipykernel)",
   "language": "python",
   "name": "python3"
  },
  "language_info": {
   "codemirror_mode": {
    "name": "ipython",
    "version": 3
   },
   "file_extension": ".py",
   "mimetype": "text/x-python",
   "name": "python",
   "nbconvert_exporter": "python",
   "pygments_lexer": "ipython3",
   "version": "3.12.7"
  }
 },
 "nbformat": 4,
 "nbformat_minor": 5
}
